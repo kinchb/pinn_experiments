{
 "cells": [
  {
   "cell_type": "code",
   "execution_count": null,
   "metadata": {},
   "outputs": [],
   "source": [
    "%matplotlib widget\n",
    "import matplotlib.pyplot as plt\n",
    "\n",
    "import torch\n",
    "import torch.optim as optim\n",
    "\n",
    "import simple_pinn\n",
    "import cv_mesh\n",
    "import cv_solver\n",
    "\n",
    "# for dev purposes, reload these modules each time this cell is run\n",
    "import importlib\n",
    "importlib.reload(simple_pinn)\n",
    "importlib.reload(cv_mesh)\n",
    "importlib.reload(cv_solver)\n",
    "\n",
    "DEVICE = \"cuda\" if torch.cuda.is_available() else \"cpu\" "
   ]
  },
  {
   "cell_type": "code",
   "execution_count": null,
   "metadata": {},
   "outputs": [],
   "source": [
    "t_domain = [0.0, 1.0]\n",
    "x_domain = [-1.0, 1.0]\n",
    "Nt = 100\n",
    "Nx = 300\n",
    "mesh = cv_mesh.CVMesh(\n",
    "    t_domain, x_domain, Nt, Nx, quad_pts=(4, 4), quad_rule=\"composite_trapezoid\"\n",
    ")\n",
    "mesh.to(DEVICE)\n",
    "\n",
    "\n",
    "def burgers_state_vec_to_fluxes(state_vec, eos):\n",
    "    u = state_vec[..., 0]\n",
    "    F_t = u.unsqueeze(-1)\n",
    "    F_x = (0.5 * u * u).unsqueeze(-1)\n",
    "    return F_t, F_x\n",
    "\n",
    "\n",
    "def burgers_state_vec_to_entropy_fluxes(state_vec, eos):\n",
    "    u = state_vec[..., 0]\n",
    "    F_t = (u * u).unsqueeze(-1)\n",
    "    F_x = ((2.0 / 3.0) * u * u * u).unsqueeze(-1)\n",
    "    return F_t, F_x\n",
    "\n",
    "\n",
    "def burgers_ic_state_vec_evaluation(eval_points, eos):\n",
    "    return torch.where(eval_points[..., 1] < 0, 0.0, 1.0).unsqueeze(-1)\n",
    "\n",
    "\n",
    "def burgers_analytic_soln(eval_points, eos, visc=1.0e-5):\n",
    "    x = eval_points[..., 1]\n",
    "    t = eval_points[..., 0]\n",
    "    # left side of the solution\n",
    "    u = torch.where(x < 0, 0.0, 1.0)\n",
    "    # right side of the solution, *ahead* of the shock front\n",
    "    u = torch.where((x - t) > 0, 1.0, u)\n",
    "    # right side of the solution, behind the shock front, i.e., the rarefaction fan\n",
    "    u = torch.where(torch.logical_and(x > 0, x - t < 0), x / t, u)\n",
    "    return u.unsqueeze(-1)\n",
    "\n",
    "\n",
    "model = simple_pinn.DirichletPINN(\n",
    "    2, [32, 32, 32], 1, mesh, burgers_ic_state_vec_evaluation, None\n",
    ").to(DEVICE)\n",
    "print(model)\n",
    "optimizer = optim.Adam(model.parameters(), lr=1e-4)\n",
    "\n",
    "cv_solver = cv_solver.CVSolver(\n",
    "    mesh,\n",
    "    model,\n",
    "    burgers_state_vec_to_fluxes,\n",
    "    burgers_ic_state_vec_evaluation,\n",
    "    None,\n",
    "    state_vec_to_entropy_fluxes=burgers_state_vec_to_entropy_fluxes,\n",
    "    analytic_soln=burgers_analytic_soln,\n",
    ")"
   ]
  },
  {
   "cell_type": "code",
   "execution_count": null,
   "metadata": {},
   "outputs": [],
   "source": [
    "n_epochs = 20_000\n",
    "for epoch in range(n_epochs):\n",
    "    cv_pde_loss, cv_entropy_loss = cv_solver.forward()\n",
    "    optimizer.zero_grad()\n",
    "    loss = cv_pde_loss + 0.1 * cv_entropy_loss\n",
    "    loss.backward()\n",
    "    optimizer.step()\n",
    "    if epoch % 100 == 0:\n",
    "        print(\n",
    "            f\"Epoch {epoch}: PDE loss: {cv_pde_loss.item():.3e}, Entropy loss: {cv_entropy_loss.item():.3e}\"\n",
    "        )"
   ]
  },
  {
   "cell_type": "code",
   "execution_count": null,
   "metadata": {},
   "outputs": [],
   "source": [
    "cv_solver.plot_loss_history()"
   ]
  },
  {
   "cell_type": "code",
   "execution_count": null,
   "metadata": {},
   "outputs": [],
   "source": [
    "cv_solver.plot_components(0, with_ics=True, loss_to_plot=\"pde\")"
   ]
  },
  {
   "cell_type": "code",
   "execution_count": null,
   "metadata": {},
   "outputs": [],
   "source": [
    "cv_solver.plot_components(-1, with_analytic_soln=True)"
   ]
  }
 ],
 "metadata": {
  "kernelspec": {
   "display_name": "pinns",
   "language": "python",
   "name": "python3"
  },
  "language_info": {
   "codemirror_mode": {
    "name": "ipython",
    "version": 3
   },
   "file_extension": ".py",
   "mimetype": "text/x-python",
   "name": "python",
   "nbconvert_exporter": "python",
   "pygments_lexer": "ipython3",
   "version": "3.11.4"
  }
 },
 "nbformat": 4,
 "nbformat_minor": 2
}
