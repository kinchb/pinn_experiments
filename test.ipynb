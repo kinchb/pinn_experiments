{
 "cells": [
  {
   "cell_type": "code",
   "execution_count": null,
   "metadata": {},
   "outputs": [],
   "source": [
    "%matplotlib widget\n",
    "import torch\n",
    "import torch.optim as optim\n",
    "from torch.utils.data import DataLoader\n",
    "from simple_pinn import SchrodingersEqDataset, SimplePINN, evalAndCompare\n",
    "import matplotlib.pyplot as plt\n",
    "# from mpl_toolkits.mplot3d import Axes3D"
   ]
  },
  {
   "cell_type": "code",
   "execution_count": null,
   "metadata": {},
   "outputs": [],
   "source": [
    "# load the data\n",
    "dataset = SchrodingersEqDataset(\"../PINNs/main/Data/NLS.mat\")\n",
    "\n",
    "dl = DataLoader(dataset, batch_size=10_000, shuffle=True)\n",
    "\n",
    "# create the model\n",
    "model = SimplePINN(input_size=2, hidden_layers=[20, 20, 20, 20], output_size=2)\n",
    "print(model)\n",
    "\n",
    "optimizer = optim.Adam(model.parameters(), lr=0.01)\n",
    "\n",
    "n_epochs = 200\n",
    "for epoch in range(n_epochs):\n",
    "    for inputs, targets in dl:\n",
    "        outputs = model(inputs)\n",
    "        # loss = model.loss_fn(outputs, targets)\n",
    "        loss = torch.nn.MSELoss()(outputs, targets)\n",
    "\n",
    "        optimizer.zero_grad()\n",
    "        loss.backward()\n",
    "        optimizer.step()\n",
    "    print(f\"epoch {epoch + 1}/{n_epochs}, loss={loss.item():.3f}\")"
   ]
  },
  {
   "cell_type": "code",
   "execution_count": null,
   "metadata": {},
   "outputs": [],
   "source": [
    "x_grid, t_grid, pred_h, target_h = evalAndCompare(model, dataset)"
   ]
  },
  {
   "cell_type": "code",
   "execution_count": null,
   "metadata": {},
   "outputs": [],
   "source": [
    "fig = plt.figure()\n",
    "\n",
    "t_sample = [0, 50, 100, 150]  # Sample values of t\n",
    "colors = [\"r\", \"g\", \"b\", \"k\"]  # Colors for each time point\n",
    "for t_ndx, color in zip(t_sample, colors):\n",
    "    plt.plot(\n",
    "        x_grid[:, t_ndx],\n",
    "        pred_h.detach().numpy()[:, t_ndx],\n",
    "        linestyle=\"--\",\n",
    "        label=f\"pred_h, t={t_ndx}\",\n",
    "        color=color,\n",
    "    )\n",
    "    plt.plot(\n",
    "        x_grid[:, t_ndx],\n",
    "        target_h.detach().numpy()[:, t_ndx],\n",
    "        linestyle=\"-\",\n",
    "        label=f\"target_h, t={t_ndx}\",\n",
    "        color=color,\n",
    "    )\n",
    "\n",
    "plt.xlabel(\"x\")\n",
    "plt.ylabel(\"h\")\n",
    "plt.legend(loc=\"best\")\n",
    "plt.show()"
   ]
  },
  {
   "cell_type": "code",
   "execution_count": null,
   "metadata": {},
   "outputs": [],
   "source": [
    "# Forward pass\n",
    "outputs = model(inputs)\n",
    "\n",
    "tmp = torch.ones_like(outputs)\n",
    "tmp[:, 1] = 0\n",
    "tmp\n",
    "\n",
    "# Compute gradients\n",
    "h_wrt_x = torch.autograd.grad(outputs, inputs, grad_outputs=tmp, create_graph=True)[0]\n",
    "h_wrt_xx = torch.autograd.grad(h_wrt_x, inputs, grad_outputs=tmp, create_graph=True)[0]"
   ]
  },
  {
   "cell_type": "code",
   "execution_count": null,
   "metadata": {},
   "outputs": [],
   "source": [
    "h_wrt_xx"
   ]
  }
 ],
 "metadata": {
  "kernelspec": {
   "display_name": "base",
   "language": "python",
   "name": "python3"
  },
  "language_info": {
   "codemirror_mode": {
    "name": "ipython",
    "version": 3
   },
   "file_extension": ".py",
   "mimetype": "text/x-python",
   "name": "python",
   "nbconvert_exporter": "python",
   "pygments_lexer": "ipython3",
   "version": "3.11.4"
  }
 },
 "nbformat": 4,
 "nbformat_minor": 2
}
