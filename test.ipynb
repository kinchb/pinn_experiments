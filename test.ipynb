{
 "cells": [
  {
   "cell_type": "code",
   "execution_count": null,
   "metadata": {},
   "outputs": [],
   "source": [
    "%matplotlib widget\n",
    "import torch\n",
    "import torch.optim as optim\n",
    "from torch.utils.data import DataLoader\n",
    "from simple_pinn import SchrodingersEqDataset, SimplePINN, evalAndCompare, calculateComplexDerivatives, calculateOperator, mse_loss\n",
    "import matplotlib.pyplot as plt"
   ]
  },
  {
   "cell_type": "code",
   "execution_count": null,
   "metadata": {},
   "outputs": [],
   "source": [
    "# load the data\n",
    "dataset = SchrodingersEqDataset(\"../PINNs/main/Data/NLS.mat\")\n",
    "\n",
    "dl = DataLoader(dataset, batch_size=10_000, shuffle=True)\n",
    "\n",
    "# create the model\n",
    "model = SimplePINN(input_size=2, hidden_layers=[20, 20, 20, 20], output_size=2)\n",
    "print(model)\n",
    "\n",
    "optimizer = optim.Adam(model.parameters(), lr=0.01)\n",
    "\n",
    "\n",
    "n_epochs = 200\n",
    "for epoch in range(n_epochs):\n",
    "    for inputs, targets in dl:\n",
    "        outputs = model(inputs)\n",
    "        data_loss = mse_loss(outputs, targets)\n",
    "        f = calculateOperator(outputs, inputs)\n",
    "        f_loss = mse_loss(f, torch.zeros_like(f))\n",
    "        loss = data_loss  # + f_loss\n",
    "        optimizer.zero_grad()\n",
    "        loss.backward()\n",
    "        optimizer.step()\n",
    "    print(\n",
    "        f\"epoch {epoch}: loss={loss:.4f}, data_loss={data_loss:.4f}, f_loss={f_loss:.4f}\"\n",
    "    )"
   ]
  },
  {
   "cell_type": "code",
   "execution_count": null,
   "metadata": {},
   "outputs": [],
   "source": [
    "x_grid, t_grid, pred_h, target_h = evalAndCompare(model, dataset)"
   ]
  },
  {
   "cell_type": "code",
   "execution_count": null,
   "metadata": {},
   "outputs": [],
   "source": [
    "fig = plt.figure()\n",
    "\n",
    "t_sample = [0, 50, 100, 150]  # Sample values of t\n",
    "colors = [\"r\", \"g\", \"b\", \"k\"]  # Colors for each time point\n",
    "for t_ndx, color in zip(t_sample, colors):\n",
    "    plt.plot(\n",
    "        x_grid[:, t_ndx],\n",
    "        pred_h.detach().numpy()[:, t_ndx],\n",
    "        linestyle=\"--\",\n",
    "        label=f\"pred_h, t={t_ndx}\",\n",
    "        color=color,\n",
    "    )\n",
    "    plt.plot(\n",
    "        x_grid[:, t_ndx],\n",
    "        target_h.detach().numpy()[:, t_ndx],\n",
    "        linestyle=\"-\",\n",
    "        label=f\"target_h, t={t_ndx}\",\n",
    "        color=color,\n",
    "    )\n",
    "\n",
    "plt.xlabel(\"x\")\n",
    "plt.ylabel(\"h\")\n",
    "plt.legend(loc=\"best\")\n",
    "plt.show()"
   ]
  },
  {
   "cell_type": "code",
   "execution_count": null,
   "metadata": {},
   "outputs": [],
   "source": [
    "# Forward pass\n",
    "outputs = model(inputs)"
   ]
  }
 ],
 "metadata": {
  "kernelspec": {
   "display_name": "base",
   "language": "python",
   "name": "python3"
  },
  "language_info": {
   "codemirror_mode": {
    "name": "ipython",
    "version": 3
   },
   "file_extension": ".py",
   "mimetype": "text/x-python",
   "name": "python",
   "nbconvert_exporter": "python",
   "pygments_lexer": "ipython3",
   "version": "3.11.4"
  }
 },
 "nbformat": 4,
 "nbformat_minor": 2
}
